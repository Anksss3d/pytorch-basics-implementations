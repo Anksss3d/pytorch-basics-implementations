{
 "cells": [
  {
   "cell_type": "code",
   "execution_count": 52,
   "metadata": {},
   "outputs": [],
   "source": [
    "import torch\n",
    "import torchvision\n",
    "from torch.utils.data import Dataset, DataLoader\n",
    "import numpy as np\n",
    "import math"
   ]
  },
  {
   "cell_type": "code",
   "execution_count": 53,
   "metadata": {},
   "outputs": [],
   "source": [
    "#Defimne Dataset Manager using Dataset Class from torch\n",
    "\n",
    "class WineDataset(Dataset):\n",
    "    #constructor\n",
    "    def __init__(self):\n",
    "        xy = np.loadtxt('./Datasets/wine.csv', delimiter=\",\", dtype=np.float32, skiprows=1)\n",
    "        self.x = torch.from_numpy(xy[:, 1:])\n",
    "        self.y = torch.from_numpy(xy[:, [0]])\n",
    "        \n",
    "        self.n_samples = xy.shape[0]\n",
    "        \n",
    "    \n",
    "    \n",
    "    #method for indexing and retrieving objects with index\n",
    "    def __getitem__(self, index):\n",
    "        return self.x[index], self.y[index]\n",
    "    \n",
    "    \n",
    "    #Method to find length of the dataset\n",
    "    def __len__(self):\n",
    "        return self.n_samples\n",
    "        \n"
   ]
  },
  {
   "cell_type": "code",
   "execution_count": 54,
   "metadata": {},
   "outputs": [],
   "source": [
    "#Create Dataset Object\n",
    "dataset = WineDataset()"
   ]
  },
  {
   "cell_type": "code",
   "execution_count": 55,
   "metadata": {},
   "outputs": [
    {
     "name": "stdout",
     "output_type": "stream",
     "text": [
      "tensor([1.4230e+01, 1.7100e+00, 2.4300e+00, 1.5600e+01, 1.2700e+02, 2.8000e+00,\n",
      "        3.0600e+00, 2.8000e-01, 2.2900e+00, 5.6400e+00, 1.0400e+00, 3.9200e+00,\n",
      "        1.0650e+03]) tensor([1.])\n"
     ]
    }
   ],
   "source": [
    "#Check the dataset\n",
    "first_data = dataset[0]\n",
    "features, labels = first_data\n",
    "print(features, labels)\n"
   ]
  },
  {
   "cell_type": "code",
   "execution_count": 56,
   "metadata": {},
   "outputs": [],
   "source": [
    "#Use of Dataloader\n",
    "dataloader = DataLoader(dataset=dataset, batch_size=2, shuffle=True)\n"
   ]
  },
  {
   "cell_type": "code",
   "execution_count": 57,
   "metadata": {},
   "outputs": [
    {
     "name": "stdout",
     "output_type": "stream",
     "text": [
      "178 45\n"
     ]
    }
   ],
   "source": [
    "epochs = 2\n",
    "total_samples = len(dataset)\n",
    "n_iterations = math.ceil(total_samples/4)\n",
    "print(total_samples, n_iterations)\n",
    "\n"
   ]
  },
  {
   "cell_type": "code",
   "execution_count": 58,
   "metadata": {},
   "outputs": [
    {
     "name": "stdout",
     "output_type": "stream",
     "text": [
      "epoch: 0, iteration: 2\n",
      "epoch: 0, iteration: 4\n",
      "epoch: 0, iteration: 6\n",
      "epoch: 0, iteration: 8\n",
      "epoch: 0, iteration: 10\n",
      "epoch: 0, iteration: 12\n",
      "epoch: 0, iteration: 14\n",
      "epoch: 0, iteration: 16\n",
      "epoch: 0, iteration: 18\n",
      "epoch: 0, iteration: 20\n",
      "epoch: 0, iteration: 22\n",
      "epoch: 0, iteration: 24\n",
      "epoch: 0, iteration: 26\n",
      "epoch: 0, iteration: 28\n",
      "epoch: 0, iteration: 30\n",
      "epoch: 0, iteration: 32\n",
      "epoch: 0, iteration: 34\n",
      "epoch: 0, iteration: 36\n",
      "epoch: 0, iteration: 38\n",
      "epoch: 0, iteration: 40\n",
      "epoch: 0, iteration: 42\n",
      "epoch: 0, iteration: 44\n",
      "epoch: 0, iteration: 46\n",
      "epoch: 0, iteration: 48\n",
      "epoch: 0, iteration: 50\n",
      "epoch: 0, iteration: 52\n",
      "epoch: 0, iteration: 54\n",
      "epoch: 0, iteration: 56\n",
      "epoch: 0, iteration: 58\n",
      "epoch: 0, iteration: 60\n",
      "epoch: 0, iteration: 62\n",
      "epoch: 0, iteration: 64\n",
      "epoch: 0, iteration: 66\n",
      "epoch: 0, iteration: 68\n",
      "epoch: 0, iteration: 70\n",
      "epoch: 0, iteration: 72\n",
      "epoch: 0, iteration: 74\n",
      "epoch: 0, iteration: 76\n",
      "epoch: 0, iteration: 78\n",
      "epoch: 0, iteration: 80\n",
      "epoch: 0, iteration: 82\n",
      "epoch: 0, iteration: 84\n",
      "epoch: 0, iteration: 86\n",
      "epoch: 0, iteration: 88\n",
      "epoch: 1, iteration: 2\n",
      "epoch: 1, iteration: 4\n",
      "epoch: 1, iteration: 6\n",
      "epoch: 1, iteration: 8\n",
      "epoch: 1, iteration: 10\n",
      "epoch: 1, iteration: 12\n",
      "epoch: 1, iteration: 14\n",
      "epoch: 1, iteration: 16\n",
      "epoch: 1, iteration: 18\n",
      "epoch: 1, iteration: 20\n",
      "epoch: 1, iteration: 22\n",
      "epoch: 1, iteration: 24\n",
      "epoch: 1, iteration: 26\n",
      "epoch: 1, iteration: 28\n",
      "epoch: 1, iteration: 30\n",
      "epoch: 1, iteration: 32\n",
      "epoch: 1, iteration: 34\n",
      "epoch: 1, iteration: 36\n",
      "epoch: 1, iteration: 38\n",
      "epoch: 1, iteration: 40\n",
      "epoch: 1, iteration: 42\n",
      "epoch: 1, iteration: 44\n",
      "epoch: 1, iteration: 46\n",
      "epoch: 1, iteration: 48\n",
      "epoch: 1, iteration: 50\n",
      "epoch: 1, iteration: 52\n",
      "epoch: 1, iteration: 54\n",
      "epoch: 1, iteration: 56\n",
      "epoch: 1, iteration: 58\n",
      "epoch: 1, iteration: 60\n",
      "epoch: 1, iteration: 62\n",
      "epoch: 1, iteration: 64\n",
      "epoch: 1, iteration: 66\n",
      "epoch: 1, iteration: 68\n",
      "epoch: 1, iteration: 70\n",
      "epoch: 1, iteration: 72\n",
      "epoch: 1, iteration: 74\n",
      "epoch: 1, iteration: 76\n",
      "epoch: 1, iteration: 78\n",
      "epoch: 1, iteration: 80\n",
      "epoch: 1, iteration: 82\n",
      "epoch: 1, iteration: 84\n",
      "epoch: 1, iteration: 86\n",
      "epoch: 1, iteration: 88\n"
     ]
    }
   ],
   "source": [
    "for epoch in range(epochs):\n",
    "    for  i, (inputs, labels) in enumerate(dataloader):\n",
    "        #Perform Forward, backward and update opration here using inputs\n",
    "        if (i+1)%2==0:\n",
    "            print(f'epoch: {epoch}, iteration: {i+1}')\n",
    "        "
   ]
  },
  {
   "cell_type": "code",
   "execution_count": 49,
   "metadata": {},
   "outputs": [],
   "source": [
    "#Test for the accuracy\n",
    "\n"
   ]
  },
  {
   "cell_type": "code",
   "execution_count": null,
   "metadata": {},
   "outputs": [],
   "source": []
  }
 ],
 "metadata": {
  "kernelspec": {
   "display_name": ".conda_venv",
   "language": "python",
   "name": ".conda_venv"
  },
  "language_info": {
   "codemirror_mode": {
    "name": "ipython",
    "version": 3
   },
   "file_extension": ".py",
   "mimetype": "text/x-python",
   "name": "python",
   "nbconvert_exporter": "python",
   "pygments_lexer": "ipython3",
   "version": "3.7.7"
  }
 },
 "nbformat": 4,
 "nbformat_minor": 4
}
