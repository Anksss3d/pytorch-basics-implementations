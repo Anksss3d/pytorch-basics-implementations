{
 "cells": [
  {
   "cell_type": "code",
   "execution_count": 20,
   "metadata": {},
   "outputs": [],
   "source": [
    "import torch\n",
    "import torch.nn as nn\n",
    "import torchvision\n",
    "import torchvision.transforms as transforms\n",
    "import matplotlib.pyplot as plt\n",
    "\n",
    "#Device Configuration\n",
    "device = torch.device('cuda' if torch.cuda.is_available() else 'cpu')"
   ]
  },
  {
   "cell_type": "code",
   "execution_count": 21,
   "metadata": {},
   "outputs": [],
   "source": [
    "#Hyper Parameters\n",
    "\n",
    "input_size = 28 * 28\n",
    "\n",
    "hidden_size = 100\n",
    "\n",
    "num_classes = 10\n",
    "\n",
    "num_epochs = 2\n",
    "\n",
    "batch_size = 100\n",
    "\n",
    "learning_rate = 0.001\n",
    "\n"
   ]
  },
  {
   "cell_type": "code",
   "execution_count": 22,
   "metadata": {},
   "outputs": [
    {
     "name": "stdout",
     "output_type": "stream",
     "text": [
      "sample examples shapes:  torch.Size([100, 1, 28, 28]) torch.Size([100])\n"
     ]
    },
    {
     "data": {
      "image/png": "[encoded data removed]",
      "text/plain": [
       "<Figure size 432x288 with 6 Axes>"
      ]
     },
     "metadata": {
      "needs_background": "light"
     },
     "output_type": "display_data"
    }
   ],
   "source": [
    "# Import MNIST Data\n",
    "\n",
    "train_dataset = torchvision.datasets.MNIST(root='./datasets/mnist', \n",
    "                                           train=True, \n",
    "                                           transform= transforms.ToTensor(), \n",
    "                                           download=True\n",
    "                                          )\n",
    "\n",
    "test_dataset = torchvision.datasets.MNIST(root='.datasets/mnist', \n",
    "                                          train = True,\n",
    "                                          transform = transforms.ToTensor(),\n",
    "                                          download = True\n",
    "                                         )\n",
    "\n",
    "\n",
    "#Create DataLoader\n",
    "\n",
    "train_dataloader = torch.utils.data.DataLoader(dataset = train_dataset, \n",
    "                                               batch_size=batch_size,\n",
    "                                               shuffle=True  \n",
    "                                              )\n",
    "\n",
    "test_dataloader = torch.utils.data.DataLoader(dataset = test_dataset, \n",
    "                                               batch_size=batch_size,\n",
    "                                               shuffle=True  \n",
    "                                              )\n",
    "\n",
    "#View Some Samples\n",
    "examples = iter(train_dataloader)\n",
    "samples, labels = examples.next()\n",
    "\n",
    "print(\"sample examples shapes: \", samples.shape, labels.shape)\n",
    "\n",
    "for i in range(6):\n",
    "    plt.subplot(2, 3, i+1)\n",
    "    plt.imshow(samples[i][0], cmap='gray')\n",
    "\n",
    "plt.show()\n"
   ]
  },
  {
   "cell_type": "code",
   "execution_count": 23,
   "metadata": {},
   "outputs": [],
   "source": [
    "#Define Neural Network\n",
    "\n",
    "class NeuralNetMNIST(nn.Module):\n",
    "    \n",
    "    def __init__(self, input_size, hidden_size, num_classes):\n",
    "        super(NeuralNetMNIST, self).__init__()\n",
    "        \n",
    "        self.l1 = nn.Linear(input_size, hidden_size)\n",
    "        self.a1 = nn.ReLU()\n",
    "        self.l2 = nn.Linear(hidden_size, num_classes)\n",
    "        \n",
    "    \n",
    "    def forward(self, x):\n",
    "        out = self.l1(x)\n",
    "        out = self.a1(out)\n",
    "        out = self.l2(out)\n",
    "        return out\n",
    "    \n",
    "model = NeuralNetMNIST(input_size, hidden_size, num_classes).to(device)\n",
    "#Loss function\n",
    "criterion = nn.CrossEntropyLoss()\n",
    "\n",
    "#Optimizer\n",
    "optimizer = torch.optim.Adam(model.parameters(), lr = learning_rate)"
   ]
  },
  {
   "cell_type": "code",
   "execution_count": 24,
   "metadata": {},
   "outputs": [
    {
     "name": "stdout",
     "output_type": "stream",
     "text": [
      "epoch = 1/2, i=50/600, loss = 0.7087\n",
      "epoch = 1/2, i=100/600, loss = 0.4679\n",
      "epoch = 1/2, i=150/600, loss = 0.2634\n",
      "epoch = 1/2, i=200/600, loss = 0.2493\n",
      "epoch = 1/2, i=250/600, loss = 0.3143\n",
      "epoch = 1/2, i=300/600, loss = 0.2166\n",
      "epoch = 1/2, i=350/600, loss = 0.3343\n",
      "epoch = 1/2, i=400/600, loss = 0.1780\n",
      "epoch = 1/2, i=450/600, loss = 0.1773\n",
      "epoch = 1/2, i=500/600, loss = 0.2801\n",
      "epoch = 1/2, i=550/600, loss = 0.1728\n",
      "epoch = 1/2, i=600/600, loss = 0.2589\n",
      "epoch = 2/2, i=50/600, loss = 0.1404\n",
      "epoch = 2/2, i=100/600, loss = 0.3640\n",
      "epoch = 2/2, i=150/600, loss = 0.2033\n",
      "epoch = 2/2, i=200/600, loss = 0.1111\n",
      "epoch = 2/2, i=250/600, loss = 0.1776\n",
      "epoch = 2/2, i=300/600, loss = 0.1542\n",
      "epoch = 2/2, i=350/600, loss = 0.2840\n",
      "epoch = 2/2, i=400/600, loss = 0.1882\n",
      "epoch = 2/2, i=450/600, loss = 0.2410\n",
      "epoch = 2/2, i=500/600, loss = 0.2749\n",
      "epoch = 2/2, i=550/600, loss = 0.2632\n",
      "epoch = 2/2, i=600/600, loss = 0.0783\n"
     ]
    }
   ],
   "source": [
    "#training Loop\n",
    "\n",
    "for epoch in range(num_epochs):\n",
    "    for i, (samples, labels) in enumerate(train_dataloader):\n",
    "        #Prepare Images for Training in 1 dimentional dataset\n",
    "        samples = samples.reshape(-1, 28*28).to(device)\n",
    "        labels = labels.to(device)\n",
    "        \n",
    "        #compute Forward value\n",
    "        y_pred = model(samples)\n",
    "        \n",
    "        #Compute Loss\n",
    "        loss = criterion(y_pred, labels)\n",
    "        \n",
    "        #Backpropogation\n",
    "        optimizer.zero_grad()\n",
    "        loss.backward()\n",
    "        optimizer.step()\n",
    "        \n",
    "        if(i+1) %50 == 0:\n",
    "            print(f'epoch = {epoch+1}/{num_epochs}, i={i+1}/{len(train_dataloader)}, loss = {loss:.4f}')\n",
    "        \n",
    "        "
   ]
  },
  {
   "cell_type": "code",
   "execution_count": 25,
   "metadata": {},
   "outputs": [
    {
     "name": "stdout",
     "output_type": "stream",
     "text": [
      "accuracy: 95.5833%\n"
     ]
    }
   ],
   "source": [
    "#Testing datasets\n",
    "\n",
    "with torch.no_grad():\n",
    "    n_correct = 0\n",
    "    n_samples = 0\n",
    "    \n",
    "    for samples, labels in test_dataloader:\n",
    "        samples = samples.reshape(-1, 28*28).to(device)\n",
    "        labels = labels.to(device)\n",
    "        predictions = model(samples)\n",
    "        \n",
    "        _, predictions = torch.max(predictions, 1)\n",
    "        n_samples += labels.shape[0]\n",
    "        n_correct += (predictions == labels).sum().item()\n",
    "        \n",
    "    acc = 100.0 * n_correct / n_samples\n",
    "    print(f'accuracy: {acc:.4f}%')\n"
   ]
  },
  {
   "cell_type": "code",
   "execution_count": null,
   "metadata": {},
   "outputs": [],
   "source": []
  }
 ],
 "metadata": {
  "kernelspec": {
   "display_name": ".conda_venv",
   "language": "python",
   "name": ".conda_venv"
  },
  "language_info": {
   "codemirror_mode": {
    "name": "ipython",
    "version": 3
   },
   "file_extension": ".py",
   "mimetype": "text/x-python",
   "name": "python",
   "nbconvert_exporter": "python",
   "pygments_lexer": "ipython3",
   "version": "3.7.7"
  }
 },
 "nbformat": 4,
 "nbformat_minor": 4
}
