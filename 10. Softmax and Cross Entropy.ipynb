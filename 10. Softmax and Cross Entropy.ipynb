{
 "cells": [
  {
   "cell_type": "code",
   "execution_count": 1,
   "metadata": {},
   "outputs": [],
   "source": [
    "import torch\n",
    "import numpy as np\n",
    "import torch.nn as nn\n"
   ]
  },
  {
   "cell_type": "code",
   "execution_count": 6,
   "metadata": {},
   "outputs": [
    {
     "name": "stdout",
     "output_type": "stream",
     "text": [
      "Softmax Numpy [0.65900114 0.24243297 0.09856589]\n"
     ]
    }
   ],
   "source": [
    "#using numpy\n",
    "\n",
    "def softmax(x):\n",
    "    return np.exp(x) / np.sum(np.exp(x), axis=0)\n",
    "\n",
    "\n",
    "x = np.array([2.0, 1.0, 0.1])\n",
    "output = softmax(x)\n",
    "print(\"Softmax Numpy\", output)\n",
    "    "
   ]
  },
  {
   "cell_type": "code",
   "execution_count": 8,
   "metadata": {
    "scrolled": true
   },
   "outputs": [
    {
     "name": "stdout",
     "output_type": "stream",
     "text": [
      "Torch Softmax tensor([0.6590, 0.2424, 0.0986])\n"
     ]
    }
   ],
   "source": [
    "x = torch.tensor([2.0, 1.0, 0.1])\n",
    "output = torch.softmax(x, dim=0)\n",
    "print(\"Torch Softmax\", output)"
   ]
  },
  {
   "cell_type": "code",
   "execution_count": 10,
   "metadata": {},
   "outputs": [
    {
     "name": "stdout",
     "output_type": "stream",
     "text": [
      "Loss 1: 0.35667494393873245, loss 2 = 1.6094379124341003\n"
     ]
    }
   ],
   "source": [
    "#CROSS ENTROPY NUMPY\n",
    "\n",
    "def cross_entropy(actual, predicted):\n",
    "    loss = -np.sum(actual * np.log(predicted))\n",
    "    return loss\n",
    "\n",
    "y_actual = np.array([1, 0, 0])\n",
    "\n",
    "y_pred_good = np.array([0.7, 0.2, 0.1])\n",
    "y_pred_bad = np.array([0.2, 0.6, 0.2])\n",
    "\n",
    "l1 = cross_entropy(y_actual, y_pred_good)\n",
    "l2 = cross_entropy(y_actual, y_pred_bad)\n",
    "\n",
    "print(f'Loss 1: {l1}, loss 2 = {l2}')\n",
    "    "
   ]
  },
  {
   "cell_type": "code",
   "execution_count": 14,
   "metadata": {},
   "outputs": [
    {
     "name": "stdout",
     "output_type": "stream",
     "text": [
      "Loss 1: 0.3030548393726349, loss 2 = 1.4922558069229126\n",
      "Loss 1: tensor([2, 0, 1]), loss 2 = tensor([1, 0, 2])\n"
     ]
    }
   ],
   "source": [
    "#CROSS ENTROPY TORCH\n",
    "\n",
    "loss = nn.CrossEntropyLoss()\n",
    "\n",
    "Y = torch.tensor([2, 0, 1])\n",
    "\n",
    "Y_pred_good = torch.tensor([[0.05, 1.0, 6.1], [0.7, 0.15, 0.15], [3.0, 5.0, 0.1]])\n",
    "Y_pred_bad = torch.tensor([[0.2, 0.6, 0.2], [0.2, 0.2, 0.2], [3.0, 8.0, 10.0]])\n",
    "\n",
    "l1 = loss(Y_pred_good, Y)\n",
    "l2 = loss(Y_pred_bad, Y)\n",
    "\n",
    "print(f'Loss 1: {l1.item()}, loss 2 = {l2.item()}')\n",
    "\n",
    "_, predictions1 = torch.max(Y_pred_good, 1)\n",
    "_, predictions2 = torch.max(Y_pred_bad, 1)\n",
    "\n",
    "print(f'Loss 1: {predictions1}, loss 2 = {predictions2}')"
   ]
  },
  {
   "cell_type": "code",
   "execution_count": 15,
   "metadata": {},
   "outputs": [],
   "source": [
    "#Designing Neural Network with Cross Entropy\n",
    "\n",
    "#Define Model\n",
    "class NeuralNet1(nn.Module):\n",
    "    \n",
    "    def __init__(self, input_dim, hidden_dim, num_classes):\n",
    "        super(NeuralNet1, self).__init__()\n",
    "        \n",
    "        self.linear1 = nn.Linear(input_dim, hidden_dim)\n",
    "        self.relu1 = nn.ReLU()\n",
    "        self.linear2 = nn.Linear(hidden_dim, num_classes)\n",
    "        \n",
    "    \n",
    "    def forward(self, x):\n",
    "        y_predicted = self.linear1(x)\n",
    "        y_predicted = self.relu1(y_predicted)\n",
    "        y_predicted = self.linear2(y_predicted)\n",
    "        return y_predicted\n",
    "    \n",
    "\n",
    "\n",
    "model = NeuralNet1(input_dim=28*28, hidden_dim = 5, num_classes=3)\n",
    "criterion = nn.CrossEntropyLoss() #There is already a softmax in it.\n",
    "\n"
   ]
  },
  {
   "cell_type": "code",
   "execution_count": 17,
   "metadata": {},
   "outputs": [],
   "source": [
    "#For Binary Classification\n",
    "\n",
    "#Define Model\n",
    "class NeuralNet1(nn.Module):\n",
    "    \n",
    "    def __init__(self, input_dim, hidden_dim):\n",
    "        super(NeuralNet1, self).__init__()\n",
    "        \n",
    "        self.linear1 = nn.Linear(input_dim, hidden_dim)\n",
    "        self.relu1 = nn.ReLU()\n",
    "        self.linear2 = nn.Linear(hidden_dim, 1)\n",
    "        \n",
    "    \n",
    "    def forward(self, x):\n",
    "        y_predicted = self.linear1(x)\n",
    "        y_predicted = self.relu1(y_predicted)\n",
    "        y_predicted = self.linear2(y_predicted)\n",
    "        y_predicted = torch.sigmoid(y_predicted)\n",
    "        return y_predicted\n",
    "    \n",
    "\n",
    "\n",
    "model = NeuralNet1(input_dim=28*28, hidden_dim = 5)\n",
    "criterion = nn.BCELoss() #When doing binary classification, one must use BCE Loss and integrate sigmopid at the end of the network\n"
   ]
  },
  {
   "cell_type": "code",
   "execution_count": null,
   "metadata": {},
   "outputs": [],
   "source": []
  }
 ],
 "metadata": {
  "kernelspec": {
   "display_name": ".conda_venv",
   "language": "python",
   "name": ".conda_venv"
  },
  "language_info": {
   "codemirror_mode": {
    "name": "ipython",
    "version": 3
   },
   "file_extension": ".py",
   "mimetype": "text/x-python",
   "name": "python",
   "nbconvert_exporter": "python",
   "pygments_lexer": "ipython3",
   "version": "3.7.7"
  }
 },
 "nbformat": 4,
 "nbformat_minor": 4
}
