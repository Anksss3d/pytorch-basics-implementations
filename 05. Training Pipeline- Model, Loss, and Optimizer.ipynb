{
 "cells": [
  {
   "cell_type": "code",
   "execution_count": 41,
   "metadata": {},
   "outputs": [],
   "source": [
    "import torch\n",
    "import torch.nn as nn\n"
   ]
  },
  {
   "cell_type": "code",
   "execution_count": 42,
   "metadata": {},
   "outputs": [
    {
     "name": "stdout",
     "output_type": "stream",
     "text": [
      "4 1\n"
     ]
    }
   ],
   "source": [
    "#define inputs, outputs and weights\n",
    "\n",
    "X = torch.tensor([[1], [2], [3], [4]], dtype=torch.float32)\n",
    "Y = torch.tensor([[3], [6], [9], [12]], dtype=torch.float32)\n",
    "\n",
    "X_test = torch.tensor([5], dtype=torch.float32)\n",
    "\n",
    "n_samples, n_features = X.shape\n",
    "\n",
    "print(n_samples, n_features)\n"
   ]
  },
  {
   "cell_type": "code",
   "execution_count": 44,
   "metadata": {},
   "outputs": [],
   "source": [
    "#define custom network\n",
    "\n",
    "input_size = n_features\n",
    "output_size = n_features\n",
    "# model = nn.Linear(input_size, output_size)\n",
    "\n",
    "class LinearRegression(nn.Module):\n",
    "    \n",
    "    def __init__(self, input_dim, output_dim):\n",
    "        super(LinearRegression, self).__init__()\n",
    "        \n",
    "        self.lin = nn.Linear(input_dim, output_dim)\n",
    "        \n",
    "    \n",
    "    def forward(self, x):\n",
    "        return self.lin(x)\n",
    "    \n",
    "model = LinearRegression(input_size, output_size)\n"
   ]
  },
  {
   "cell_type": "code",
   "execution_count": 45,
   "metadata": {},
   "outputs": [],
   "source": [
    "# define Hyperparameter\n",
    "\n",
    "learning_rate = 0.01\n",
    "n_iter = 100\n",
    "\n",
    "loss = nn.MSELoss()\n",
    "optimizer = torch.optim.SGD(model.parameters(), lr=learning_rate)"
   ]
  },
  {
   "cell_type": "code",
   "execution_count": 46,
   "metadata": {},
   "outputs": [
    {
     "name": "stdout",
     "output_type": "stream",
     "text": [
      "Prediction before training f(5): -2.687\n"
     ]
    }
   ],
   "source": [
    "\n",
    "print(f'Prediction before training f(5): {model(X_test).item():.3f}')"
   ]
  },
  {
   "cell_type": "code",
   "execution_count": 47,
   "metadata": {
    "collapsed": true
   },
   "outputs": [
    {
     "name": "stdout",
     "output_type": "stream",
     "text": [
      "epoch 1: w=-0.569, loss=0.00000000\n",
      "epoch 6: w=1.416, loss=26.03647804\n",
      "epoch 11: w=2.297, loss=5.12591457\n",
      "epoch 16: w=2.688, loss=1.00916028\n",
      "epoch 21: w=2.862, loss=0.19867763\n",
      "epoch 26: w=2.939, loss=0.03911442\n",
      "epoch 31: w=2.973, loss=0.00770054\n",
      "epoch 36: w=2.988, loss=0.00151606\n",
      "epoch 41: w=2.995, loss=0.00029848\n",
      "epoch 46: w=2.998, loss=0.00005876\n",
      "epoch 51: w=2.999, loss=0.00001157\n",
      "epoch 56: w=3.000, loss=0.00000228\n",
      "epoch 61: w=3.000, loss=0.00000045\n",
      "epoch 66: w=3.000, loss=0.00000009\n",
      "epoch 71: w=3.000, loss=0.00000002\n",
      "epoch 76: w=3.000, loss=0.00000000\n",
      "epoch 81: w=3.000, loss=0.00000000\n",
      "epoch 86: w=3.000, loss=0.00000000\n",
      "epoch 91: w=3.000, loss=0.00000000\n",
      "epoch 96: w=3.000, loss=0.00000000\n"
     ]
    }
   ],
   "source": [
    "# Training Code\n",
    "\n",
    "for epoch in range(n_iter):\n",
    "    #Predict\n",
    "    y_pred = forward(X)\n",
    "    \n",
    "    #Compute Loss\n",
    "    l = loss(Y, y_pred)\n",
    "    \n",
    "    #Backpropogate\n",
    "    l.backward()\n",
    "    \n",
    "    #update weight\n",
    "    optimizer.step()\n",
    "        \n",
    "    #zero the gradients\n",
    "    optimizer.zero_grad()\n",
    "    \n",
    "    \n",
    "    if epoch%5==0:\n",
    "        [w, b] = model.parameters()\n",
    "        print(f'epoch { epoch+1 }: w={w[0][0].item():.3f}, loss={l:.8f}')\n",
    "    \n",
    "\n",
    "    \n",
    "    \n",
    "    "
   ]
  },
  {
   "cell_type": "code",
   "execution_count": 48,
   "metadata": {
    "collapsed": true
   },
   "outputs": [
    {
     "name": "stdout",
     "output_type": "stream",
     "text": [
      "Prediction after training f(5): 15.160\n"
     ]
    }
   ],
   "source": [
    "#Get Predictions\n",
    "\n",
    "print(f'Prediction after training f(5): {model(X_test).item():.3f}')"
   ]
  },
  {
   "cell_type": "code",
   "execution_count": null,
   "metadata": {},
   "outputs": [],
   "source": []
  }
 ],
 "metadata": {
  "kernelspec": {
   "display_name": ".conda_venv",
   "language": "python",
   "name": ".conda_venv"
  },
  "language_info": {
   "codemirror_mode": {
    "name": "ipython",
    "version": 3
   },
   "file_extension": ".py",
   "mimetype": "text/x-python",
   "name": "python",
   "nbconvert_exporter": "python",
   "pygments_lexer": "ipython3",
   "version": "3.7.7"
  }
 },
 "nbformat": 4,
 "nbformat_minor": 4
}
