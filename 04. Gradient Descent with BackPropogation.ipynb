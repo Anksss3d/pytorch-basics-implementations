{
 "cells": [
  {
   "cell_type": "code",
   "execution_count": 21,
   "metadata": {},
   "outputs": [],
   "source": [
    "import torch"
   ]
  },
  {
   "cell_type": "code",
   "execution_count": 22,
   "metadata": {},
   "outputs": [],
   "source": [
    "#define inputs, outputs and weights\n",
    "\n",
    "X = torch.tensor([1, 2, 3, 4], dtype=torch.float32)\n",
    "Y = torch.tensor([3, 6, 9, 12], dtype=torch.float32)\n",
    "\n",
    "w = torch.tensor(0.0, dtype=torch.float32, requires_grad=True)"
   ]
  },
  {
   "cell_type": "code",
   "execution_count": 23,
   "metadata": {},
   "outputs": [],
   "source": [
    "#define network\n",
    "\n",
    "def forward(x):\n",
    "    return w * x\n"
   ]
  },
  {
   "cell_type": "code",
   "execution_count": 24,
   "metadata": {},
   "outputs": [],
   "source": [
    "#define loss function\n",
    "\n",
    "def loss(y, y_predicted):\n",
    "    return ((y_predicted-y)**2).mean()\n"
   ]
  },
  {
   "cell_type": "code",
   "execution_count": 25,
   "metadata": {},
   "outputs": [
    {
     "name": "stdout",
     "output_type": "stream",
     "text": [
      "Prediction before training f(5): 0.000\n"
     ]
    }
   ],
   "source": [
    "print(f'Prediction before training f(5): {forward(5):.3f}')"
   ]
  },
  {
   "cell_type": "code",
   "execution_count": 26,
   "metadata": {},
   "outputs": [],
   "source": [
    "# define Hyperparameter\n",
    "\n",
    "learning_rate = 0.01\n",
    "n_iter = 100"
   ]
  },
  {
   "cell_type": "code",
   "execution_count": 27,
   "metadata": {},
   "outputs": [
    {
     "name": "stdout",
     "output_type": "stream",
     "text": [
      "epoch 1: w=0.450, loss=67.50000000\n",
      "epoch 6: w=1.869, loss=13.28902245\n",
      "epoch 11: w=2.498, loss=2.61626792\n",
      "epoch 16: w=2.777, loss=0.51507670\n",
      "epoch 21: w=2.901, loss=0.10140543\n",
      "epoch 26: w=2.956, loss=0.01996418\n",
      "epoch 31: w=2.981, loss=0.00393051\n",
      "epoch 36: w=2.991, loss=0.00077382\n",
      "epoch 41: w=2.996, loss=0.00015233\n",
      "epoch 46: w=2.998, loss=0.00003000\n",
      "epoch 51: w=2.999, loss=0.00000590\n",
      "epoch 56: w=3.000, loss=0.00000116\n",
      "epoch 61: w=3.000, loss=0.00000023\n",
      "epoch 66: w=3.000, loss=0.00000005\n",
      "epoch 71: w=3.000, loss=0.00000001\n",
      "epoch 76: w=3.000, loss=0.00000000\n",
      "epoch 81: w=3.000, loss=0.00000000\n",
      "epoch 86: w=3.000, loss=0.00000000\n",
      "epoch 91: w=3.000, loss=0.00000000\n",
      "epoch 96: w=3.000, loss=0.00000000\n"
     ]
    }
   ],
   "source": [
    "# Training Code\n",
    "\n",
    "for epoch in range(n_iter):\n",
    "    #Predict\n",
    "    y_pred = forward(X)\n",
    "    \n",
    "    #Compute Loss\n",
    "    l = loss(Y, y_pred)\n",
    "    \n",
    "    #Backpropogate\n",
    "    l.backward()\n",
    "    \n",
    "    #update weight\n",
    "    with torch.no_grad():\n",
    "        w -= learning_rate * w.grad\n",
    "        \n",
    "    #zero the gradients\n",
    "    w.grad.zero_()\n",
    "    if epoch%5==0:\n",
    "        print(f'epoch { epoch+1 }: w={w:.3f}, loss={l:.8f}')\n",
    "    \n",
    "\n",
    "    \n",
    "    \n",
    "    "
   ]
  },
  {
   "cell_type": "code",
   "execution_count": 28,
   "metadata": {},
   "outputs": [
    {
     "name": "stdout",
     "output_type": "stream",
     "text": [
      "Prediction after training f(5): 15.000\n"
     ]
    }
   ],
   "source": [
    "#Get Predictions\n",
    "\n",
    "print(f'Prediction after training f(5): {forward(5):.3f}')"
   ]
  },
  {
   "cell_type": "code",
   "execution_count": null,
   "metadata": {},
   "outputs": [],
   "source": []
  }
 ],
 "metadata": {
  "kernelspec": {
   "display_name": ".conda_venv",
   "language": "python",
   "name": ".conda_venv"
  },
  "language_info": {
   "codemirror_mode": {
    "name": "ipython",
    "version": 3
   },
   "file_extension": ".py",
   "mimetype": "text/x-python",
   "name": "python",
   "nbconvert_exporter": "python",
   "pygments_lexer": "ipython3",
   "version": "3.7.7"
  }
 },
 "nbformat": 4,
 "nbformat_minor": 4
}
